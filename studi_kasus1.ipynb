{
 "cells": [
  {
   "cell_type": "code",
   "execution_count": 1,
   "id": "52551372",
   "metadata": {},
   "outputs": [],
   "source": [
    "import cv2\n",
    "import numpy as np\n",
    "import os\n",
    "from sklearn.model_selection import train_test_split\n",
    "from sklearn.metrics import confusion_matrix,classification_report\n",
    "import matplotlib.pyplot as plt\n",
    "import pickle\n",
    "import seaborn as sns"
   ]
  },
  {
   "cell_type": "code",
   "execution_count": 2,
   "id": "afeb6d71",
   "metadata": {},
   "outputs": [],
   "source": [
    "train_path = ('C:/Users/Reza/miniconda3/envs/LatihanCV/Dataset')\n",
    "training_names = os.listdir(train_path) #dataset 3\n",
    "\n",
    "image_paths = []\n",
    "image_classes = []\n",
    "class_id = 0\n",
    "\n",
    "def imglist(path):    \n",
    "    return [os.path.join(path, f) for f in os.listdir(path)]\n",
    "\n",
    "for training_name in training_names:\n",
    "    dir = os.path.join(train_path, training_name) # Menggabungkan train_path dan training_name; Dataset/Putri, Dataset/Kirei, Dataset/Yudha\n",
    "    class_path = imglist(dir)\n",
    "    image_paths+=class_path\n",
    "    image_classes+=[class_id]*len(class_path)\n",
    "    class_id+=1\n"
   ]
  },
  {
   "cell_type": "code",
   "execution_count": 3,
   "id": "da272d38",
   "metadata": {},
   "outputs": [],
   "source": [
    "# Inisialisasi variabel untuk menyimpan deskriptor dari Algoritma SIFT\n",
    "des_list = []\n",
    "\n",
    "# Buat Fitur Ekstraksi dan Objek Deteksi Keypoints\n",
    "sift = cv2.SIFT_create()\n",
    "for image_path in image_paths:\n",
    "    im = cv2.imread(image_path) # Membaca Citra berdasarkan PATH yang telah dibuat sebelumnya\n",
    "    kpts, des = sift.detectAndCompute(im, None)\n",
    "    des_list.append((image_path, des))   # Menyimpan fitur yang telah dideteksi kedalam variabel des_list=[]\n",
    "    "
   ]
  },
  {
   "cell_type": "code",
   "execution_count": 4,
   "id": "37234c36",
   "metadata": {},
   "outputs": [],
   "source": [
    "descriptors = des_list[0][1]\n",
    "for image_path, descriptor in des_list[1:]:\n",
    "   descriptors = np.vstack((descriptors, descriptor))  \n",
    "\n",
    "descriptors_float = descriptors.astype(float)  # K-Means hanya bekerja pada tipe data float, Convert descriptor ke float\n"
   ]
  },
  {
   "cell_type": "code",
   "execution_count": 5,
   "id": "986270df",
   "metadata": {},
   "outputs": [
    {
     "data": {
      "image/png": "[encoded data removed]",
      "text/plain": [
       "<Figure size 640x480 with 1 Axes>"
      ]
     },
     "metadata": {},
     "output_type": "display_data"
    }
   ],
   "source": [
    "# Gunakan K-Means untuk Melakukan perhitungan Histogram (BoVW)\n",
    "from scipy.cluster.vq import kmeans, vq\n",
    "k = 150  \n",
    "# Hitung histogram BoVW untuk seluruh dataset gambar\n",
    "voc, variance = kmeans(descriptors_float, k, 1) \n",
    "im_features = np.zeros((len(image_paths), k), \"float32\")\n",
    "for i in range(len(image_paths)):\n",
    "    words, distance = vq(des_list[i][1],voc)\n",
    "    for w in words:\n",
    "        im_features[i][w] += 1\n",
    "        \n",
    "        \n",
    "import matplotlib.pyplot as plt\n",
    "# Anda sudah memiliki 'im_features' yang berisi histogram BoVW\n",
    "\n",
    "# Misalnya, jika Anda ingin menampilkan histogram untuk gambar ke-0:\n",
    "histogram = im_features[0]\n",
    "\n",
    "# Plot histogram BoVW\n",
    "plt.figure()\n",
    "plt.bar(range(len(histogram)), histogram)\n",
    "plt.xlabel(\"Cluster\")\n",
    "plt.ylabel(\"Frequency\")\n",
    "plt.title(\"Histogram BoVW\")\n",
    "plt.show()\n"
   ]
  },
  {
   "cell_type": "code",
   "execution_count": 6,
   "id": "2384b32e",
   "metadata": {},
   "outputs": [],
   "source": [
    "X_train, X_test, y_train, y_test = train_test_split(im_features, image_classes, test_size=0.24, random_state=42, stratify=image_classes)"
   ]
  },
  {
   "cell_type": "code",
   "execution_count": 7,
   "id": "4c8b876b",
   "metadata": {},
   "outputs": [
    {
     "name": "stdout",
     "output_type": "stream",
     "text": [
      "              precision    recall  f1-score   support\n",
      "\n",
      "           0       1.00      1.00      1.00         1\n",
      "           1       1.00      1.00      1.00         1\n",
      "           2       1.00      1.00      1.00         1\n",
      "\n",
      "    accuracy                           1.00         3\n",
      "   macro avg       1.00      1.00      1.00         3\n",
      "weighted avg       1.00      1.00      1.00         3\n",
      "\n"
     ]
    }
   ],
   "source": [
    "from sklearn.svm import SVC\n",
    "from sklearn.metrics import classification_report\n",
    "import pickle\n",
    "clf = SVC(kernel='linear', C=1.0, max_iter=500)\n",
    "clf.fit(X_train, np.array(y_train))\n",
    "\n",
    "# Lakukan prediksi pada data uji\n",
    "y_pred = clf.predict(X_test)\n",
    "# Mencetak laporan klasifikasi\n",
    "report = classification_report(y_test, y_pred)\n",
    "print(report)\n",
    "\n",
    "#Simpan Model Sistem Klasifikasi kedalam bentuk Pickel\n",
    "filename = \"svm_model_SIFT.pkl\"\n",
    "with open(filename, \"wb\") as f:\n",
    "    pickle.dump(clf, f)"
   ]
  },
  {
   "cell_type": "code",
   "execution_count": 8,
   "id": "4bdf5304",
   "metadata": {},
   "outputs": [
    {
     "name": "stdout",
     "output_type": "stream",
     "text": [
      "              precision    recall  f1-score   support\n",
      "\n",
      "           0       0.00      0.00      0.00         1\n",
      "           1       0.50      1.00      0.67         1\n",
      "           2       1.00      1.00      1.00         1\n",
      "\n",
      "    accuracy                           0.67         3\n",
      "   macro avg       0.50      0.67      0.56         3\n",
      "weighted avg       0.50      0.67      0.56         3\n",
      "\n"
     ]
    },
    {
     "name": "stderr",
     "output_type": "stream",
     "text": [
      "C:\\Users\\Reza\\miniconda3\\envs\\LatihanCV\\lib\\site-packages\\sklearn\\metrics\\_classification.py:1469: UndefinedMetricWarning: Precision and F-score are ill-defined and being set to 0.0 in labels with no predicted samples. Use `zero_division` parameter to control this behavior.\n",
      "  _warn_prf(average, modifier, msg_start, len(result))\n",
      "C:\\Users\\Reza\\miniconda3\\envs\\LatihanCV\\lib\\site-packages\\sklearn\\metrics\\_classification.py:1469: UndefinedMetricWarning: Precision and F-score are ill-defined and being set to 0.0 in labels with no predicted samples. Use `zero_division` parameter to control this behavior.\n",
      "  _warn_prf(average, modifier, msg_start, len(result))\n",
      "C:\\Users\\Reza\\miniconda3\\envs\\LatihanCV\\lib\\site-packages\\sklearn\\metrics\\_classification.py:1469: UndefinedMetricWarning: Precision and F-score are ill-defined and being set to 0.0 in labels with no predicted samples. Use `zero_division` parameter to control this behavior.\n",
      "  _warn_prf(average, modifier, msg_start, len(result))\n"
     ]
    }
   ],
   "source": [
    "from sklearn.neighbors import KNeighborsClassifier\n",
    "from sklearn.metrics import classification_report\n",
    "\n",
    "knn = KNeighborsClassifier(n_neighbors=3)\n",
    "knn.fit(X_train, y_train)\n",
    "\n",
    "# Lakukan prediksi pada data uji\n",
    "y_pred = knn.predict(X_test)\n",
    "# Mencetak laporan klasifikasi\n",
    "report = classification_report(y_test, y_pred)\n",
    "print(report)\n",
    "\n",
    "#Simpan Model Sistem Klasifikasi kedalam bentuk Pickel\n",
    "filename = \"knn_model_SIFT.pkl\"\n",
    "with open(filename, \"wb\") as f:\n",
    "    pickle.dump(knn, f)"
   ]
  },
  {
   "cell_type": "code",
   "execution_count": 9,
   "id": "72eedabe",
   "metadata": {},
   "outputs": [
    {
     "name": "stdout",
     "output_type": "stream",
     "text": [
      "Confusion Matrix:\n",
      "[[0 1 0]\n",
      " [0 1 0]\n",
      " [0 0 1]]\n"
     ]
    },
    {
     "data": {
      "image/png": "[encoded data removed]",
      "text/plain": [
       "<Figure size 640x480 with 2 Axes>"
      ]
     },
     "metadata": {},
     "output_type": "display_data"
    }
   ],
   "source": [
    "import matplotlib.pyplot as plt\n",
    "from sklearn.metrics import ConfusionMatrixDisplay, classification_report, confusion_matrix\n",
    "# Membuat confusion matrix\n",
    "cm = confusion_matrix(y_test, y_pred)\n",
    "\n",
    "# Mencetak confusion matrix\n",
    "print(\"Confusion Matrix:\")\n",
    "print(cm)\n",
    "\n",
    "# Memplot confusion matrix\n",
    "labels = np.unique(image_classes)\n",
    "display = ConfusionMatrixDisplay(confusion_matrix=cm, display_labels=labels)\n",
    "display.plot(cmap=plt.cm.Blues)\n",
    "plt.title(\"Confusion Matrix\")\n",
    "plt.xlabel(\"Predicted Label\")\n",
    "plt.ylabel(\"True Label\")\n",
    "plt.show()"
   ]
  },
  {
   "cell_type": "code",
   "execution_count": 10,
   "id": "6671ac0a",
   "metadata": {},
   "outputs": [
    {
     "name": "stdout",
     "output_type": "stream",
     "text": [
      "Confusion Matrix:\n",
      "[[0 1 0]\n",
      " [0 1 0]\n",
      " [0 0 1]]\n"
     ]
    },
    {
     "data": {
      "image/png": "[encoded data removed]",
      "text/plain": [
       "<Figure size 640x480 with 2 Axes>"
      ]
     },
     "metadata": {},
     "output_type": "display_data"
    }
   ],
   "source": [
    "import matplotlib.pyplot as plt\n",
    "from sklearn.metrics import confusion_matrix, classification_report\n",
    "# Mencetak confusion matrix\n",
    "print(\"Confusion Matrix:\")\n",
    "\n",
    "# Membuat confusion matrix\n",
    "cm = confusion_matrix(y_test, y_pred)\n",
    "print(cm)\n",
    "\n",
    "# Memplot confusion matrix\n",
    "labels = np.unique(image_classes)\n",
    "fig, ax = plt.subplots()\n",
    "im = ax.imshow(cm, interpolation='nearest', cmap=plt.cm.Blues)\n",
    "ax.figure.colorbar(im, ax=ax)\n",
    "ax.set(xticks=np.arange(cm.shape[1]),\n",
    "       yticks=np.arange(cm.shape[0]),\n",
    "       xticklabels=labels, yticklabels=labels,\n",
    "       title=\"Confusion Matrix\",\n",
    "       ylabel=\"True label\",\n",
    "       xlabel=\"Predicted label\")\n",
    "plt.show()"
   ]
  },
  {
   "cell_type": "code",
   "execution_count": null,
   "id": "e65e5bcd",
   "metadata": {},
   "outputs": [],
   "source": []
  },
  {
   "cell_type": "code",
   "execution_count": null,
   "id": "4b70ed76",
   "metadata": {},
   "outputs": [],
   "source": []
  }
 ],
 "metadata": {
  "kernelspec": {
   "display_name": "Python 3 (ipykernel)",
   "language": "python",
   "name": "python3"
  },
  "language_info": {
   "codemirror_mode": {
    "name": "ipython",
    "version": 3
   },
   "file_extension": ".py",
   "mimetype": "text/x-python",
   "name": "python",
   "nbconvert_exporter": "python",
   "pygments_lexer": "ipython3",
   "version": "3.9.18"
  }
 },
 "nbformat": 4,
 "nbformat_minor": 5
}
